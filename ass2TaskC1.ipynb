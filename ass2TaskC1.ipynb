{
 "cells": [
  {
   "cell_type": "markdown",
   "metadata": {},
   "source": [
    "# C1(Server) Generate streams \n",
    "\n",
    "This application feed data from files into a stream\n"
   ]
  },
  {
   "cell_type": "code",
   "execution_count": 1,
   "metadata": {
    "collapsed": false
   },
   "outputs": [],
   "source": [
    "#read data from csv\n",
    "import csv\n",
    "from pprint import pprint\n",
    "FireData = open(\"FireData-Part2.csv\",\"r\")\n",
    "reader = csv.reader(FireData)\n",
    "FireData=[]\n",
    "for item in reader:\n",
    "    FireData.append(item)\n",
    "    \n",
    "ClimateData = open(\"ClimateData-Part2.csv\",\"r\")\n",
    "reader = csv.reader(ClimateData)\n",
    "ClimateData=[]\n",
    "for item in reader:\n",
    "    ClimateData.append(item)\n",
    "# delete the unnecessary space\n",
    "for item in ClimateData[1:]:\n",
    "    item[6]=item[6].strip()\n",
    "    item[7]=item[7].strip()\n",
    "    item[8]=item[8].strip()"
   ]
  },
  {
   "cell_type": "code",
   "execution_count": 2,
   "metadata": {
    "collapsed": true
   },
   "outputs": [],
   "source": [
    "# change to dicitionary format\n",
    "ClimatePart2=[]\n",
    "for entry in ClimateData[1:]:\n",
    "    dic={}\n",
    "    dic['Datatype']=entry[0]\n",
    "    dic['Station']=entry[1]\n",
    "    dic['Air Temperature(Celcius)']=entry[2]\n",
    "    dic['Relative Humidity']=entry[3]\n",
    "    dic['WindSpeed  (knots)']=entry[4]\n",
    "    dic['Max Wind Speed']=entry[5]\n",
    "    dic['MAX']=entry[6]\n",
    "    dic['MIN']=entry[7]\n",
    "    dic['Precipitation']=entry[8]\n",
    "    dic['FireData']=[]\n",
    "    dic['Date']=''\n",
    "    ClimatePart2.append(dic) "
   ]
  },
  {
   "cell_type": "code",
   "execution_count": 3,
   "metadata": {
    "collapsed": false
   },
   "outputs": [],
   "source": [
    "# change to dicitionary format\n",
    "FirePart2=[]\n",
    "for item in FireData[1:]:\n",
    "            dic1={}\n",
    "            dic1['dtype']=item[0]\n",
    "            dic1['Latitude']=item[1]\n",
    "            dic1['Longitude']=item[2]\n",
    "            dic1['Surface Temperature (kelvin)']=item[3]\n",
    "            dic1['Power']=item[4]\n",
    "            dic1['Confidence']=item[5]\n",
    "            dic1['Surface Temperature (Celcius)']=item[6]\n",
    "            dic1['Datetime']=''\n",
    "            FirePart2.append(dic1)"
   ]
  },
  {
   "cell_type": "code",
   "execution_count": 4,
   "metadata": {
    "collapsed": false
   },
   "outputs": [],
   "source": [
    "from datetime import datetime\n",
    "cdate=datetime.now().strftime('%Y-%m-%d')\n",
    "ctime=datetime.now().strftime('%Y-%m-%dT%H:%M:%S')"
   ]
  },
  {
   "cell_type": "code",
   "execution_count": 5,
   "metadata": {
    "collapsed": true
   },
   "outputs": [],
   "source": [
    "# join climate and fire, add date content and return a string\n",
    "\n",
    "def combine_fire_climate(climate,fire):\n",
    "    climate['Date']=cdate\n",
    "    for item in fire:\n",
    "        item['Datetime']=ctime\n",
    "        climate['FireData'].append(item)\n",
    "    \n",
    "    result=str(climate)\n",
    "    return result   "
   ]
  },
  {
   "cell_type": "code",
   "execution_count": 6,
   "metadata": {
    "collapsed": false
   },
   "outputs": [],
   "source": [
    "import socket\n",
    "\n",
    "def send_to_stream(string):\n",
    "   \n",
    "    host= 'localhost'\n",
    "    port=9999\n",
    "    \n",
    "    #(domain,type)\n",
    "    s=socket.socket(socket.AF_INET,socket.SOCK_STREAM)\n",
    "    \n",
    "    #  We add this line to avoid an error : \"Address already in use\".\n",
    "    s.setsockopt(socket.SOL_SOCKET,socket.SO_REUSEADDR,1)\n",
    "    \n",
    "    # bind() : assigne a specific address to socket\n",
    "    s.bind((host,port))\n",
    "    \n",
    "    # Listen to the socket. If the client calls connect(0) for a connection request,the server will receive the request\n",
    "    s.listen(1)\n",
    "    \n",
    "    # accept the connection from client\n",
    "    conn,addr=s.accept()\n",
    "    \n",
    "    # Encode the string into bytes and send the data.\n",
    "    # utf_8 : 8-bit unicode transformation format\n",
    "    conn.sendall(string.encode('utf_8'))\n",
    "    "
   ]
  },
  {
   "cell_type": "code",
   "execution_count": null,
   "metadata": {
    "collapsed": true
   },
   "outputs": [],
   "source": [
    "# send the processed text to the pyspark client.\n",
    "def connect(numberOfC,numberOfF):\n",
    "    \"\"\"\n",
    "    \n",
    "    numberOfC -- A numeric value indicates how many documents should be sent.`all` for all documents. \n",
    "    numberOfF -- A numeric value indicates how many fire documents combines with climate data.\n",
    "                 (example: one tuple from climate and five tuple from fire)\n",
    "    \n",
    "    \"\"\"\n",
    "    \n",
    "    print('Begin')\n",
    "    if numberOfC == 'all':\n",
    "        numberOfC = len(ClimatePart2)\n",
    "        #print(numberOfClimate)\n",
    "    new_fire=[]\n",
    "    \n",
    "    for i in range(0,len(FirePart2),numberOfF):\n",
    "        new_fire.append(FirePart2[i:i+numberOfF])\n",
    "    \n",
    "    print('Waiting for connection...\\n')\n",
    "    for index in range(0,numberOfC):\n",
    "        # print(numberOfC) 366 \n",
    "        c=ClimatePart2[index]\n",
    "        f=new_fire[index]\n",
    "        to_be_sent=combine_fire_climate(c,f)\n",
    "        send_to_stream(to_be_sent)\n",
    "        print('file',index+1,' already sent')\n",
    "    print('Finish')\n"
   ]
  },
  {
   "cell_type": "code",
   "execution_count": null,
   "metadata": {
    "collapsed": false
   },
   "outputs": [
    {
     "name": "stdout",
     "output_type": "stream",
     "text": [
      "Begin\n",
      "Waiting for connection...\n",
      "\n",
      "file 1  already sent\n",
      "file 2  already sent\n",
      "file 3  already sent\n",
      "file 4  already sent\n",
      "file 5  already sent\n"
     ]
    }
   ],
   "source": [
    "connect('all',4)"
   ]
  },
  {
   "cell_type": "code",
   "execution_count": null,
   "metadata": {
    "collapsed": true
   },
   "outputs": [],
   "source": []
  }
 ],
 "metadata": {
  "kernelspec": {
   "display_name": "Python 3",
   "language": "python",
   "name": "python3"
  },
  "language_info": {
   "codemirror_mode": {
    "name": "ipython",
    "version": 3
   },
   "file_extension": ".py",
   "mimetype": "text/x-python",
   "name": "python",
   "nbconvert_exporter": "python",
   "pygments_lexer": "ipython3",
   "version": "3.5.2"
  }
 },
 "nbformat": 4,
 "nbformat_minor": 1
}
